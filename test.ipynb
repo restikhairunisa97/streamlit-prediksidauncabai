{
 "cells": [
  {
   "cell_type": "code",
   "execution_count": 7,
   "metadata": {
    "collapsed": true
   },
   "outputs": [
    {
     "name": "stdout",
     "output_type": "stream",
     "text": [
      "daun_berlubang\n",
      "imagesdataset\\daun_berlubang\n",
      "['hole1.jpg', 'hole10.jpg', 'hole11.jpg', 'hole12.jpg', 'hole13.jpg', 'hole14.jpg', 'hole15.jpg', 'hole16.jpg', 'hole17.jpg', 'hole18.jpg', 'hole19.jpg', 'hole2.jpg', 'hole20.jpg', 'hole21.jpg', 'hole22.jpg', 'hole23.jpg', 'hole24.jpg', 'hole25.jpg', 'hole3.jpg', 'hole4.jpg', 'hole5.jpg', 'hole6.jpg', 'hole7.jpg', 'hole8.jpg', 'hole9.jpg']\n",
      "daun_keriting\n",
      "imagesdataset\\daun_keriting\n",
      "['curl1.jpg', 'curl10.jpg', 'curl11.jpg', 'curl12.jpg', 'curl13.jpg', 'curl14.jpg', 'curl15.jpg', 'curl16.jpg', 'curl17.jpg', 'curl18.jpg', 'curl19.jpg', 'curl2.jpg', 'curl20.jpg', 'curl21.jpg', 'curl22.jpg', 'curl23.jpg', 'curl24.jpg', 'curl25.jpg', 'curl26.jpg', 'curl27.jpg', 'curl28.jpg', 'curl29.jpg', 'curl3.jpg', 'curl30.jpg', 'curl31.jpg', 'curl4.jpg', 'curl5.jpg', 'curl6.jpg', 'curl7.jpg', 'curl8.jpg', 'curl9.jpg']\n",
      "daun_sehat\n",
      "imagesdataset\\daun_sehat\n",
      "['health1.jpg', 'health10.jpg', 'health11.jpg', 'health12.jpg', 'health13.jpg', 'health14.jpg', 'health15.jpg', 'health16.jpg', 'health17.jpg', 'health18.jpg', 'health19.jpg', 'health2.jpg', 'health20.jpg', 'health21.jpg', 'health22.jpg', 'health23.jpg', 'health24.jpg', 'health25.jpg', 'health26.jpg', 'health27.jpg', 'health28.jpg', 'health29.jpg', 'health3.jpg', 'health30.jpg', 'health31.jpg', 'health32.jpg', 'health33.jpg', 'health34.jpg', 'health35.jpg', 'health36.jpg', 'health37.jpg', 'health38.jpg', 'health39.jpg', 'health4.jpg', 'health40.jpg', 'health41.jpg', 'health42.jpg', 'health43.jpg', 'health44.jpg', 'health45.jpg', 'health46.jpg', 'health47.jpg', 'health48.jpg', 'health49.jpg', 'health5.jpg', 'health50.jpg', 'health51.jpg', 'health52.jpg', 'health53.jpg', 'health54.jpg', 'health55.jpg', 'health56.jpg', 'health57.jpg', 'health6.jpg', 'health7.jpg', 'health8.jpg', 'health9.jpg']\n"
     ]
    }
   ],
   "source": [
    "import os\n",
    "\n",
    "dataset_dir = \"imagesdataset\"\n",
    "for folder in os.listdir(dataset_dir):\n",
    "    print(folder)\n",
    "    print(os.path.join(dataset_dir, folder))\n",
    "    sub_folder_files = os.listdir(os.path.join(dataset_dir, folder))\n",
    "    print(sub_folder_files)"
   ]
  },
  {
   "cell_type": "code",
   "execution_count": null,
   "outputs": [],
   "source": [],
   "metadata": {
    "collapsed": false
   }
  }
 ],
 "metadata": {
  "kernelspec": {
   "display_name": "Python 3",
   "language": "python",
   "name": "python3"
  },
  "language_info": {
   "codemirror_mode": {
    "name": "ipython",
    "version": 2
   },
   "file_extension": ".py",
   "mimetype": "text/x-python",
   "name": "python",
   "nbconvert_exporter": "python",
   "pygments_lexer": "ipython2",
   "version": "2.7.6"
  }
 },
 "nbformat": 4,
 "nbformat_minor": 0
}
